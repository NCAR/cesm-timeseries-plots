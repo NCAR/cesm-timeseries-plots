{
 "cells": [
  {
   "cell_type": "markdown",
   "id": "cb9baf8d-7731-414b-a145-f37dee3fc8d5",
   "metadata": {},
   "source": [
    "# CESM Timeseries Plots\n",
    "\n",
    "Within this project, we aim to replicate global/regional timeseries plots which can be used to examine CESM diagnostics."
   ]
  },
  {
   "cell_type": "code",
   "execution_count": null,
   "id": "27f444bb-5df6-4e90-afb2-8437c9a2217c",
   "metadata": {},
   "outputs": [],
   "source": []
  }
 ],
 "metadata": {
  "kernelspec": {
   "display_name": "Python 3",
   "language": "python",
   "name": "python3"
  },
  "language_info": {
   "codemirror_mode": {
    "name": "ipython",
    "version": 3
   },
   "file_extension": ".py",
   "mimetype": "text/x-python",
   "name": "python",
   "nbconvert_exporter": "python",
   "pygments_lexer": "ipython3",
   "version": "3.9.4"
  }
 },
 "nbformat": 4,
 "nbformat_minor": 5
}
